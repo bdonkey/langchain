{
 "cells": [
  {
   "cell_type": "code",
   "execution_count": 2,
   "metadata": {},
   "outputs": [
    {
     "name": "stdout",
     "output_type": "stream",
     "text": [
      "Requirement already satisfied: pypdf in /Users/scottschmidt/.virtualenvs/langchain/lib/python3.10/site-packages (3.8.1)\n"
     ]
    }
   ],
   "source": [
    "!pip install pypdf"
   ]
  },
  {
   "cell_type": "code",
   "execution_count": 3,
   "metadata": {},
   "outputs": [],
   "source": [
    "from langchain.document_loaders import PyPDFLoader"
   ]
  },
  {
   "cell_type": "code",
   "execution_count": 5,
   "metadata": {},
   "outputs": [],
   "source": [
    "loader = PyPDFLoader(\"/Users/scottschmidt/scottdev/langchain/ss/ssData/ConsStorageDistCtr_ConsolidatedRFP.pdf\")\n"
   ]
  },
  {
   "cell_type": "code",
   "execution_count": 6,
   "metadata": {},
   "outputs": [
    {
     "ename": "PdfReadError",
     "evalue": "Invalid Elementary Object starting with b'\\xe6' @0: b'\\xe6w\\xb3\\xd6\\xa0\\x80\\xc4\\x10\\xad\\xd5p\\x90\\x04\\x1bg\\xd2l\\x7f\\xcd\\x90\\xddch@w\\x11~U\"@\\r\\xf2\\x14~\\xf1\\x110\\x0f\\'\\xf0\\xea3\\x912M\\x80$Y\\x07\\xfc\\xf8\\x0f\\xa4t\\x05uE\\n\\xd9O#\\xbe;\\x03\\xc5\\x87\\xa2G\\xec\\x07\\xb5\\xcb\\xfb@@I\\xca-\\xb1M'",
     "output_type": "error",
     "traceback": [
      "\u001b[0;31m---------------------------------------------------------------------------\u001b[0m",
      "\u001b[0;31mPdfReadError\u001b[0m                              Traceback (most recent call last)",
      "Cell \u001b[0;32mIn[6], line 1\u001b[0m\n\u001b[0;32m----> 1\u001b[0m pages \u001b[39m=\u001b[39m loader\u001b[39m.\u001b[39;49mload_and_split()\n",
      "File \u001b[0;32m~/.virtualenvs/langchain/lib/python3.10/site-packages/langchain/document_loaders/base.py:35\u001b[0m, in \u001b[0;36mBaseLoader.load_and_split\u001b[0;34m(self, text_splitter)\u001b[0m\n\u001b[1;32m     33\u001b[0m \u001b[39melse\u001b[39;00m:\n\u001b[1;32m     34\u001b[0m     _text_splitter \u001b[39m=\u001b[39m text_splitter\n\u001b[0;32m---> 35\u001b[0m docs \u001b[39m=\u001b[39m \u001b[39mself\u001b[39;49m\u001b[39m.\u001b[39;49mload()\n\u001b[1;32m     36\u001b[0m \u001b[39mreturn\u001b[39;00m _text_splitter\u001b[39m.\u001b[39msplit_documents(docs)\n",
      "File \u001b[0;32m~/.virtualenvs/langchain/lib/python3.10/site-packages/langchain/document_loaders/pdf.py:109\u001b[0m, in \u001b[0;36mPyPDFLoader.load\u001b[0;34m(self)\u001b[0m\n\u001b[1;32m    107\u001b[0m \u001b[39mwith\u001b[39;00m \u001b[39mopen\u001b[39m(\u001b[39mself\u001b[39m\u001b[39m.\u001b[39mfile_path, \u001b[39m\"\u001b[39m\u001b[39mrb\u001b[39m\u001b[39m\"\u001b[39m) \u001b[39mas\u001b[39;00m pdf_file_obj:\n\u001b[1;32m    108\u001b[0m     pdf_reader \u001b[39m=\u001b[39m pypdf\u001b[39m.\u001b[39mPdfReader(pdf_file_obj)\n\u001b[0;32m--> 109\u001b[0m     \u001b[39mreturn\u001b[39;00m [\n\u001b[1;32m    110\u001b[0m         Document(\n\u001b[1;32m    111\u001b[0m             page_content\u001b[39m=\u001b[39mpage\u001b[39m.\u001b[39mextract_text(),\n\u001b[1;32m    112\u001b[0m             metadata\u001b[39m=\u001b[39m{\u001b[39m\"\u001b[39m\u001b[39msource\u001b[39m\u001b[39m\"\u001b[39m: \u001b[39mself\u001b[39m\u001b[39m.\u001b[39mfile_path, \u001b[39m\"\u001b[39m\u001b[39mpage\u001b[39m\u001b[39m\"\u001b[39m: i},\n\u001b[1;32m    113\u001b[0m         )\n\u001b[1;32m    114\u001b[0m         \u001b[39mfor\u001b[39;00m i, page \u001b[39min\u001b[39;00m \u001b[39menumerate\u001b[39m(pdf_reader\u001b[39m.\u001b[39mpages)\n\u001b[1;32m    115\u001b[0m     ]\n",
      "File \u001b[0;32m~/.virtualenvs/langchain/lib/python3.10/site-packages/langchain/document_loaders/pdf.py:111\u001b[0m, in \u001b[0;36m<listcomp>\u001b[0;34m(.0)\u001b[0m\n\u001b[1;32m    107\u001b[0m \u001b[39mwith\u001b[39;00m \u001b[39mopen\u001b[39m(\u001b[39mself\u001b[39m\u001b[39m.\u001b[39mfile_path, \u001b[39m\"\u001b[39m\u001b[39mrb\u001b[39m\u001b[39m\"\u001b[39m) \u001b[39mas\u001b[39;00m pdf_file_obj:\n\u001b[1;32m    108\u001b[0m     pdf_reader \u001b[39m=\u001b[39m pypdf\u001b[39m.\u001b[39mPdfReader(pdf_file_obj)\n\u001b[1;32m    109\u001b[0m     \u001b[39mreturn\u001b[39;00m [\n\u001b[1;32m    110\u001b[0m         Document(\n\u001b[0;32m--> 111\u001b[0m             page_content\u001b[39m=\u001b[39mpage\u001b[39m.\u001b[39;49mextract_text(),\n\u001b[1;32m    112\u001b[0m             metadata\u001b[39m=\u001b[39m{\u001b[39m\"\u001b[39m\u001b[39msource\u001b[39m\u001b[39m\"\u001b[39m: \u001b[39mself\u001b[39m\u001b[39m.\u001b[39mfile_path, \u001b[39m\"\u001b[39m\u001b[39mpage\u001b[39m\u001b[39m\"\u001b[39m: i},\n\u001b[1;32m    113\u001b[0m         )\n\u001b[1;32m    114\u001b[0m         \u001b[39mfor\u001b[39;00m i, page \u001b[39min\u001b[39;00m \u001b[39menumerate\u001b[39m(pdf_reader\u001b[39m.\u001b[39mpages)\n\u001b[1;32m    115\u001b[0m     ]\n",
      "File \u001b[0;32m~/.virtualenvs/langchain/lib/python3.10/site-packages/pypdf/_page.py:1962\u001b[0m, in \u001b[0;36mPageObject.extract_text\u001b[0;34m(self, Tj_sep, TJ_sep, orientations, space_width, visitor_operand_before, visitor_operand_after, visitor_text, *args)\u001b[0m\n\u001b[1;32m   1959\u001b[0m \u001b[39mif\u001b[39;00m \u001b[39misinstance\u001b[39m(orientations, \u001b[39mint\u001b[39m):\n\u001b[1;32m   1960\u001b[0m     orientations \u001b[39m=\u001b[39m (orientations,)\n\u001b[0;32m-> 1962\u001b[0m \u001b[39mreturn\u001b[39;00m \u001b[39mself\u001b[39;49m\u001b[39m.\u001b[39;49m_extract_text(\n\u001b[1;32m   1963\u001b[0m     \u001b[39mself\u001b[39;49m,\n\u001b[1;32m   1964\u001b[0m     \u001b[39mself\u001b[39;49m\u001b[39m.\u001b[39;49mpdf,\n\u001b[1;32m   1965\u001b[0m     orientations,\n\u001b[1;32m   1966\u001b[0m     space_width,\n\u001b[1;32m   1967\u001b[0m     PG\u001b[39m.\u001b[39;49mCONTENTS,\n\u001b[1;32m   1968\u001b[0m     visitor_operand_before,\n\u001b[1;32m   1969\u001b[0m     visitor_operand_after,\n\u001b[1;32m   1970\u001b[0m     visitor_text,\n\u001b[1;32m   1971\u001b[0m )\n",
      "File \u001b[0;32m~/.virtualenvs/langchain/lib/python3.10/site-packages/pypdf/_page.py:1621\u001b[0m, in \u001b[0;36mPageObject._extract_text\u001b[0;34m(self, obj, pdf, orientations, space_width, content_key, visitor_operand_before, visitor_operand_after, visitor_text)\u001b[0m\n\u001b[1;32m   1617\u001b[0m     content \u001b[39m=\u001b[39m (\n\u001b[1;32m   1618\u001b[0m         obj[content_key]\u001b[39m.\u001b[39mget_object() \u001b[39mif\u001b[39;00m \u001b[39misinstance\u001b[39m(content_key, \u001b[39mstr\u001b[39m) \u001b[39melse\u001b[39;00m obj\n\u001b[1;32m   1619\u001b[0m     )\n\u001b[1;32m   1620\u001b[0m     \u001b[39mif\u001b[39;00m \u001b[39mnot\u001b[39;00m \u001b[39misinstance\u001b[39m(content, ContentStream):\n\u001b[0;32m-> 1621\u001b[0m         content \u001b[39m=\u001b[39m ContentStream(content, pdf, \u001b[39m\"\u001b[39;49m\u001b[39mbytes\u001b[39;49m\u001b[39m\"\u001b[39;49m)\n\u001b[1;32m   1622\u001b[0m \u001b[39mexcept\u001b[39;00m \u001b[39mKeyError\u001b[39;00m:  \u001b[39m# it means no content can be extracted(certainly empty page)\u001b[39;00m\n\u001b[1;32m   1623\u001b[0m     \u001b[39mreturn\u001b[39;00m \u001b[39m\"\u001b[39m\u001b[39m\"\u001b[39m\n",
      "File \u001b[0;32m~/.virtualenvs/langchain/lib/python3.10/site-packages/pypdf/generic/_data_structures.py:935\u001b[0m, in \u001b[0;36mContentStream.__init__\u001b[0;34m(self, stream, pdf, forced_encoding)\u001b[0m\n\u001b[1;32m    933\u001b[0m     stream_bytes \u001b[39m=\u001b[39m BytesIO(stream_data_bytes)\n\u001b[1;32m    934\u001b[0m \u001b[39mself\u001b[39m\u001b[39m.\u001b[39mforced_encoding \u001b[39m=\u001b[39m forced_encoding\n\u001b[0;32m--> 935\u001b[0m \u001b[39mself\u001b[39;49m\u001b[39m.\u001b[39;49m__parse_content_stream(stream_bytes)\n",
      "File \u001b[0;32m~/.virtualenvs/langchain/lib/python3.10/site-packages/pypdf/generic/_data_structures.py:1022\u001b[0m, in \u001b[0;36mContentStream.__parse_content_stream\u001b[0;34m(self, stream)\u001b[0m\n\u001b[1;32m   1020\u001b[0m         peek \u001b[39m=\u001b[39m stream\u001b[39m.\u001b[39mread(\u001b[39m1\u001b[39m)\n\u001b[1;32m   1021\u001b[0m \u001b[39melse\u001b[39;00m:\n\u001b[0;32m-> 1022\u001b[0m     operands\u001b[39m.\u001b[39mappend(read_object(stream, \u001b[39mNone\u001b[39;49;00m, \u001b[39mself\u001b[39;49m\u001b[39m.\u001b[39;49mforced_encoding))\n",
      "File \u001b[0;32m~/.virtualenvs/langchain/lib/python3.10/site-packages/pypdf/generic/_data_structures.py:1177\u001b[0m, in \u001b[0;36mread_object\u001b[0;34m(stream, pdf, forced_encoding)\u001b[0m\n\u001b[1;32m   1175\u001b[0m \u001b[39melse\u001b[39;00m:\n\u001b[1;32m   1176\u001b[0m     stream\u001b[39m.\u001b[39mseek(\u001b[39m-\u001b[39m\u001b[39m20\u001b[39m, \u001b[39m1\u001b[39m)\n\u001b[0;32m-> 1177\u001b[0m     \u001b[39mraise\u001b[39;00m PdfReadError(\n\u001b[1;32m   1178\u001b[0m         \u001b[39mf\u001b[39m\u001b[39m\"\u001b[39m\u001b[39mInvalid Elementary Object starting with \u001b[39m\u001b[39m{\u001b[39;00mtok\u001b[39m!r}\u001b[39;00m\u001b[39m @\u001b[39m\u001b[39m{\u001b[39;00mstream\u001b[39m.\u001b[39mtell()\u001b[39m}\u001b[39;00m\u001b[39m: \u001b[39m\u001b[39m{\u001b[39;00mstream\u001b[39m.\u001b[39mread(\u001b[39m80\u001b[39m)\u001b[39m.\u001b[39m\u001b[39m__repr__\u001b[39m()\u001b[39m}\u001b[39;00m\u001b[39m\"\u001b[39m\n\u001b[1;32m   1179\u001b[0m     )\n",
      "\u001b[0;31mPdfReadError\u001b[0m: Invalid Elementary Object starting with b'\\xe6' @0: b'\\xe6w\\xb3\\xd6\\xa0\\x80\\xc4\\x10\\xad\\xd5p\\x90\\x04\\x1bg\\xd2l\\x7f\\xcd\\x90\\xddch@w\\x11~U\"@\\r\\xf2\\x14~\\xf1\\x110\\x0f\\'\\xf0\\xea3\\x912M\\x80$Y\\x07\\xfc\\xf8\\x0f\\xa4t\\x05uE\\n\\xd9O#\\xbe;\\x03\\xc5\\x87\\xa2G\\xec\\x07\\xb5\\xcb\\xfb@@I\\xca-\\xb1M'"
     ]
    }
   ],
   "source": [
    "pages = loader.load_and_split()"
   ]
  },
  {
   "cell_type": "code",
   "execution_count": null,
   "metadata": {},
   "outputs": [],
   "source": []
  }
 ],
 "metadata": {
  "kernelspec": {
   "display_name": "sslangchain",
   "language": "python",
   "name": "python3"
  },
  "language_info": {
   "codemirror_mode": {
    "name": "ipython",
    "version": 3
   },
   "file_extension": ".py",
   "mimetype": "text/x-python",
   "name": "python",
   "nbconvert_exporter": "python",
   "pygments_lexer": "ipython3",
   "version": "3.10.9"
  },
  "orig_nbformat": 4
 },
 "nbformat": 4,
 "nbformat_minor": 2
}
