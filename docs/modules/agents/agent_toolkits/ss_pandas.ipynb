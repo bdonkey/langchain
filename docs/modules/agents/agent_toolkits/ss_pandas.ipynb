{
 "cells": [
  {
   "cell_type": "markdown",
   "id": "c81da886",
   "metadata": {},
   "source": [
    "# Pandas Dataframe Agent\n",
    "\n",
    "This notebook shows how to use agents to interact with a pandas dataframe. It is mostly optimized for question answering.\n",
    "\n",
    "**NOTE: this agent calls the Python agent under the hood, which executes LLM generated Python code - this can be bad if the LLM generated Python code is harmful. Use cautiously.**"
   ]
  },
  {
   "cell_type": "code",
   "execution_count": 1,
   "id": "0cdd9bf5",
   "metadata": {},
   "outputs": [],
   "source": [
    "from langchain.agents import create_pandas_dataframe_agent"
   ]
  },
  {
   "cell_type": "code",
   "execution_count": 2,
   "id": "051ebe84",
   "metadata": {},
   "outputs": [],
   "source": [
    "from langchain.llms import OpenAI\n",
    "import pandas as pd\n",
    "\n",
    "df = pd.read_csv('titanic.csv')"
   ]
  },
  {
   "cell_type": "markdown",
   "id": "9c1324aa",
   "metadata": {},
   "source": [
    "# start ss"
   ]
  },
  {
   "cell_type": "code",
   "execution_count": 3,
   "id": "2a99559b",
   "metadata": {},
   "outputs": [
    {
     "data": {
      "text/plain": [
       "'/Users/scottschmidt/scottdev/langchain/docs/modules/agents/agent_toolkits'"
      ]
     },
     "execution_count": 3,
     "metadata": {},
     "output_type": "execute_result"
    }
   ],
   "source": [
    "# ss\n",
    "import os\n",
    "os.getcwd()"
   ]
  },
  {
   "cell_type": "code",
   "execution_count": 4,
   "id": "d52fd0fc",
   "metadata": {},
   "outputs": [],
   "source": [
    "df = pd.read_csv('../../../../ssData/tkcmonthlystatus.csv')"
   ]
  },
  {
   "cell_type": "code",
   "execution_count": 8,
   "id": "3fd2435c",
   "metadata": {},
   "outputs": [
    {
     "data": {
      "text/html": [
       "<div>\n",
       "<style scoped>\n",
       "    .dataframe tbody tr th:only-of-type {\n",
       "        vertical-align: middle;\n",
       "    }\n",
       "\n",
       "    .dataframe tbody tr th {\n",
       "        vertical-align: top;\n",
       "    }\n",
       "\n",
       "    .dataframe thead th {\n",
       "        text-align: right;\n",
       "    }\n",
       "</style>\n",
       "<table border=\"1\" class=\"dataframe\">\n",
       "  <thead>\n",
       "    <tr style=\"text-align: right;\">\n",
       "      <th></th>\n",
       "      <th>jcco</th>\n",
       "      <th>contract</th>\n",
       "      <th>mth</th>\n",
       "      <th>pillar</th>\n",
       "      <th>pillardesc</th>\n",
       "      <th>contractstatus</th>\n",
       "      <th>description</th>\n",
       "      <th>contractamount</th>\n",
       "      <th>currestprofit</th>\n",
       "      <th>projprofit</th>\n",
       "      <th>...</th>\n",
       "      <th>profitprioryears</th>\n",
       "      <th>profitforyear</th>\n",
       "      <th>contractrevenuetodate</th>\n",
       "      <th>contractrevenueforyear</th>\n",
       "      <th>billedtodate</th>\n",
       "      <th>unbilledcosts</th>\n",
       "      <th>deferredcontractrevenue</th>\n",
       "      <th>reserveforloss</th>\n",
       "      <th>constrstartdate</th>\n",
       "      <th>substcompldate</th>\n",
       "    </tr>\n",
       "  </thead>\n",
       "  <tbody>\n",
       "    <tr>\n",
       "      <th>0</th>\n",
       "      <td>8</td>\n",
       "      <td>40043-</td>\n",
       "      <td>2002-12-01</td>\n",
       "      <td>STL</td>\n",
       "      <td>St. Louis</td>\n",
       "      <td>Closed</td>\n",
       "      <td>Chestnut Health Mainstay Ctr</td>\n",
       "      <td>81200.0</td>\n",
       "      <td>33875.00</td>\n",
       "      <td>45830.05</td>\n",
       "      <td>...</td>\n",
       "      <td>0.00</td>\n",
       "      <td>45830.05</td>\n",
       "      <td>81200.00</td>\n",
       "      <td>81200.00</td>\n",
       "      <td>81200.0</td>\n",
       "      <td>0.00</td>\n",
       "      <td>0.00</td>\n",
       "      <td>0.0</td>\n",
       "      <td>2000-12-14 00:00:00.000000</td>\n",
       "      <td>2002-11-30 00:00:00.000000</td>\n",
       "    </tr>\n",
       "    <tr>\n",
       "      <th>1</th>\n",
       "      <td>8</td>\n",
       "      <td>40079-</td>\n",
       "      <td>2002-12-01</td>\n",
       "      <td>STL</td>\n",
       "      <td>St. Louis</td>\n",
       "      <td>Closed</td>\n",
       "      <td>Christian Activity Center</td>\n",
       "      <td>10000.0</td>\n",
       "      <td>-7454.91</td>\n",
       "      <td>-7632.96</td>\n",
       "      <td>...</td>\n",
       "      <td>-7454.91</td>\n",
       "      <td>-178.05</td>\n",
       "      <td>10000.00</td>\n",
       "      <td>477.20</td>\n",
       "      <td>10000.0</td>\n",
       "      <td>0.00</td>\n",
       "      <td>0.00</td>\n",
       "      <td>0.0</td>\n",
       "      <td>2001-06-01 00:00:00.000000</td>\n",
       "      <td>2001-12-31 00:00:00.000000</td>\n",
       "    </tr>\n",
       "    <tr>\n",
       "      <th>2</th>\n",
       "      <td>8</td>\n",
       "      <td>40171-</td>\n",
       "      <td>2002-12-01</td>\n",
       "      <td>DC</td>\n",
       "      <td>Distribution Center</td>\n",
       "      <td>Open</td>\n",
       "      <td>Alside Distribution Warehouse</td>\n",
       "      <td>55000.0</td>\n",
       "      <td>4720.00</td>\n",
       "      <td>1950.50</td>\n",
       "      <td>...</td>\n",
       "      <td>0.00</td>\n",
       "      <td>1698.07</td>\n",
       "      <td>47882.26</td>\n",
       "      <td>47882.26</td>\n",
       "      <td>46750.0</td>\n",
       "      <td>1132.26</td>\n",
       "      <td>0.00</td>\n",
       "      <td>0.0</td>\n",
       "      <td>2002-07-29 00:00:00.000000</td>\n",
       "      <td>2003-03-15 00:00:00.000000</td>\n",
       "    </tr>\n",
       "    <tr>\n",
       "      <th>3</th>\n",
       "      <td>8</td>\n",
       "      <td>40063-</td>\n",
       "      <td>2002-12-01</td>\n",
       "      <td>DC</td>\n",
       "      <td>Distribution Center</td>\n",
       "      <td>Closed</td>\n",
       "      <td>Walgreens Mt Vernon Conveyor</td>\n",
       "      <td>32000.0</td>\n",
       "      <td>4975.00</td>\n",
       "      <td>10386.35</td>\n",
       "      <td>...</td>\n",
       "      <td>3414.73</td>\n",
       "      <td>6971.62</td>\n",
       "      <td>32000.00</td>\n",
       "      <td>9772.77</td>\n",
       "      <td>32000.0</td>\n",
       "      <td>0.00</td>\n",
       "      <td>0.00</td>\n",
       "      <td>0.0</td>\n",
       "      <td>2001-08-01 00:00:00.000000</td>\n",
       "      <td>2001-12-31 00:00:00.000000</td>\n",
       "    </tr>\n",
       "    <tr>\n",
       "      <th>4</th>\n",
       "      <td>8</td>\n",
       "      <td>40091-</td>\n",
       "      <td>2002-12-01</td>\n",
       "      <td>OTH</td>\n",
       "      <td>Other</td>\n",
       "      <td>Open</td>\n",
       "      <td>Walgreens Accounting Phase3</td>\n",
       "      <td>354230.0</td>\n",
       "      <td>69802.00</td>\n",
       "      <td>83804.07</td>\n",
       "      <td>...</td>\n",
       "      <td>0.00</td>\n",
       "      <td>73530.03</td>\n",
       "      <td>310802.84</td>\n",
       "      <td>310802.84</td>\n",
       "      <td>354230.0</td>\n",
       "      <td>0.00</td>\n",
       "      <td>-43427.15</td>\n",
       "      <td>0.0</td>\n",
       "      <td>2001-09-01 00:00:00.000000</td>\n",
       "      <td>2002-12-31 00:00:00.000000</td>\n",
       "    </tr>\n",
       "  </tbody>\n",
       "</table>\n",
       "<p>5 rows × 26 columns</p>\n",
       "</div>"
      ],
      "text/plain": [
       "   jcco contract         mth pillar           pillardesc contractstatus  \\\n",
       "0     8   40043-  2002-12-01    STL            St. Louis         Closed   \n",
       "1     8   40079-  2002-12-01    STL            St. Louis         Closed   \n",
       "2     8   40171-  2002-12-01     DC  Distribution Center           Open   \n",
       "3     8   40063-  2002-12-01     DC  Distribution Center         Closed   \n",
       "4     8   40091-  2002-12-01    OTH                Other           Open   \n",
       "\n",
       "                     description  contractamount  currestprofit  projprofit  \\\n",
       "0   Chestnut Health Mainstay Ctr         81200.0       33875.00    45830.05   \n",
       "1      Christian Activity Center         10000.0       -7454.91    -7632.96   \n",
       "2  Alside Distribution Warehouse         55000.0        4720.00     1950.50   \n",
       "3   Walgreens Mt Vernon Conveyor         32000.0        4975.00    10386.35   \n",
       "4    Walgreens Accounting Phase3        354230.0       69802.00    83804.07   \n",
       "\n",
       "   ...  profitprioryears  profitforyear  contractrevenuetodate  \\\n",
       "0  ...              0.00       45830.05               81200.00   \n",
       "1  ...          -7454.91        -178.05               10000.00   \n",
       "2  ...              0.00        1698.07               47882.26   \n",
       "3  ...           3414.73        6971.62               32000.00   \n",
       "4  ...              0.00       73530.03              310802.84   \n",
       "\n",
       "   contractrevenueforyear  billedtodate  unbilledcosts  \\\n",
       "0                81200.00       81200.0           0.00   \n",
       "1                  477.20       10000.0           0.00   \n",
       "2                47882.26       46750.0        1132.26   \n",
       "3                 9772.77       32000.0           0.00   \n",
       "4               310802.84      354230.0           0.00   \n",
       "\n",
       "   deferredcontractrevenue  reserveforloss             constrstartdate  \\\n",
       "0                     0.00             0.0  2000-12-14 00:00:00.000000   \n",
       "1                     0.00             0.0  2001-06-01 00:00:00.000000   \n",
       "2                     0.00             0.0  2002-07-29 00:00:00.000000   \n",
       "3                     0.00             0.0  2001-08-01 00:00:00.000000   \n",
       "4                -43427.15             0.0  2001-09-01 00:00:00.000000   \n",
       "\n",
       "               substcompldate  \n",
       "0  2002-11-30 00:00:00.000000  \n",
       "1  2001-12-31 00:00:00.000000  \n",
       "2  2003-03-15 00:00:00.000000  \n",
       "3  2001-12-31 00:00:00.000000  \n",
       "4  2002-12-31 00:00:00.000000  \n",
       "\n",
       "[5 rows x 26 columns]"
      ]
     },
     "execution_count": 8,
     "metadata": {},
     "output_type": "execute_result"
    }
   ],
   "source": [
    "df.head()"
   ]
  },
  {
   "cell_type": "code",
   "execution_count": 31,
   "id": "4185ff46",
   "metadata": {},
   "outputs": [],
   "source": [
    "agent = create_pandas_dataframe_agent(OpenAI(temperature=0), df, verbose=True)"
   ]
  },
  {
   "cell_type": "code",
   "execution_count": 25,
   "id": "a9207a2e",
   "metadata": {},
   "outputs": [
    {
     "data": {
      "text/plain": [
       "'There are 30861 rows in the dataframe.'"
      ]
     },
     "execution_count": 25,
     "metadata": {},
     "output_type": "execute_result"
    }
   ],
   "source": [
    "agent.run(\"how many rows are there?\")"
   ]
  },
  {
   "cell_type": "code",
   "execution_count": 33,
   "id": "c1a45e38",
   "metadata": {},
   "outputs": [
    {
     "name": "stdout",
     "output_type": "stream",
     "text": [
      "\n",
      "\n",
      "\u001b[1m> Entering new AgentExecutor chain...\u001b[0m\n",
      "\u001b[32;1m\u001b[1;3mThought: I need to filter the dataframe\n",
      "Action: python_repl_ast\n",
      "Action Input: df[(df['contract'] == '40171-') & (df['jcco'] == 9)]\u001b[0m\n",
      "Observation: \u001b[36;1m\u001b[1;3m      jcco contract         mth pillar           pillardesc contractstatus  \\\n",
      "1863     9   40171-  2002-12-01     DC  Distribution Center           Open   \n",
      "2048     9   40171-  2003-12-01     DC  Distribution Center         Closed   \n",
      "\n",
      "                     description  contractamount  currestprofit  projprofit  \\\n",
      "1863  Alside Distribution Center       1070520.0       53526.78    48245.19   \n",
      "2048  Alside Distribution Center       1071527.7       54038.18    45393.14   \n",
      "\n",
      "      ...  profitprioryears  profitforyear  contractrevenuetodate  \\\n",
      "1863  ...              0.00       15937.97               353650.1   \n",
      "2048  ...          15937.97       29455.17              1071527.7   \n",
      "\n",
      "      contractrevenueforyear  billedtodate  unbilledcosts  \\\n",
      "1863                353650.1     351188.79        2461.31   \n",
      "2048                717877.6    1071527.70           0.00   \n",
      "\n",
      "      deferredcontractrevenue  reserveforloss             constrstartdate  \\\n",
      "1863                      0.0             0.0  2002-11-01 00:00:00.000000   \n",
      "2048                      0.0             0.0  2002-11-01 00:00:00.000000   \n",
      "\n",
      "                  substcompldate  \n",
      "1863  2003-04-16 00:00:00.000000  \n",
      "2048  2003-04-16 00:00:00.000000  \n",
      "\n",
      "[2 rows x 26 columns]\u001b[0m\n",
      "Thought:\u001b[32;1m\u001b[1;3m I now know the final answer\n",
      "Final Answer: There are two rows in the dataframe with contract equal to 40171 and jcco equal to 9.\u001b[0m\n",
      "\n",
      "\u001b[1m> Finished chain.\u001b[0m\n"
     ]
    }
   ],
   "source": [
    "sa = agent.run(\"show data with contract equal to 40171 and jcco equal to 9\")"
   ]
  },
  {
   "cell_type": "code",
   "execution_count": 37,
   "id": "ccdb9fe4",
   "metadata": {},
   "outputs": [
    {
     "data": {
      "text/plain": [
       "'There are two rows in the dataframe with contract equal to 40171 and jcco equal to 9.'"
      ]
     },
     "execution_count": 37,
     "metadata": {},
     "output_type": "execute_result"
    }
   ],
   "source": [
    "sa"
   ]
  },
  {
   "cell_type": "code",
   "execution_count": 27,
   "id": "970947c0",
   "metadata": {},
   "outputs": [
    {
     "data": {
      "text/plain": [
       "93918738.33000001"
      ]
     },
     "execution_count": 27,
     "metadata": {},
     "output_type": "execute_result"
    }
   ],
   "source": [
    "df[(df['mth'] == '2023-01-01') & (df['contractstatus'] == 'Open') & (df['jcco'] == 9)]['projprofit'].sum()"
   ]
  },
  {
   "cell_type": "code",
   "execution_count": 26,
   "id": "6987aa9c",
   "metadata": {},
   "outputs": [
    {
     "name": "stderr",
     "output_type": "stream",
     "text": [
      "Retrying langchain.llms.openai.completion_with_retry.<locals>._completion_with_retry in 4.0 seconds as it raised APIError: Internal server error {\n",
      "    \"error\": {\n",
      "        \"message\": \"Internal server error\",\n",
      "        \"type\": \"auth_subrequest_error\",\n",
      "        \"param\": null,\n",
      "        \"code\": \"internal_error\"\n",
      "    }\n",
      "}\n",
      " 500 {'error': {'message': 'Internal server error', 'type': 'auth_subrequest_error', 'param': None, 'code': 'internal_error'}} {'Date': 'Fri, 17 Mar 2023 17:33:04 GMT', 'Content-Type': 'application/json; charset=utf-8', 'Content-Length': '166', 'Connection': 'keep-alive', 'Vary': 'Origin', 'X-Request-Id': 'a89032e593f321d5449fd988ff44dab1', 'Strict-Transport-Security': 'max-age=15724800; includeSubDomains'}.\n"
     ]
    }
   ],
   "source": [
    "x=agent.run(\"list rows with contractstatus open in mth 2023-01-01 and jcco equal to 9, sum the projprofit\")"
   ]
  },
  {
   "cell_type": "code",
   "execution_count": 23,
   "id": "2cb70e7b",
   "metadata": {},
   "outputs": [
    {
     "data": {
      "text/plain": [
       "'The sum of the projprofit column for rows with contractstatus open in mth 2023-01-01 and jcco equal to 9 is 93918738.33000001.'"
      ]
     },
     "execution_count": 23,
     "metadata": {},
     "output_type": "execute_result"
    }
   ],
   "source": [
    "x"
   ]
  },
  {
   "attachments": {},
   "cell_type": "markdown",
   "id": "37741629",
   "metadata": {},
   "source": [
    "# end ss"
   ]
  },
  {
   "cell_type": "code",
   "execution_count": null,
   "id": "e21379aa",
   "metadata": {},
   "outputs": [
    {
     "name": "stdout",
     "output_type": "stream",
     "text": [
      "\n",
      "\n",
      "\u001b[1m> Entering new AgentExecutor chain...\u001b[0m\n",
      "\u001b[32;1m\u001b[1;3mThought: I need to count the number of rows\n",
      "Action: python_repl_ast\n",
      "Action Input: len(df)\u001b[0m\n",
      "Observation: \u001b[36;1m\u001b[1;3m30861\u001b[0m\n",
      "Thought:\u001b[32;1m\u001b[1;3m I now know the final answer\n",
      "Final Answer: There are 30861 rows in the dataframe.\u001b[0m\n",
      "\n",
      "\u001b[1m> Finished chain.\u001b[0m\n"
     ]
    },
    {
     "data": {
      "text/plain": [
       "'There are 30861 rows in the dataframe.'"
      ]
     },
     "metadata": {},
     "output_type": "display_data"
    }
   ],
   "source": [
    "agent.run(\"how many rows are there?\")"
   ]
  },
  {
   "cell_type": "code",
   "execution_count": 5,
   "id": "bd43617c",
   "metadata": {},
   "outputs": [
    {
     "name": "stdout",
     "output_type": "stream",
     "text": [
      "\n",
      "\n",
      "\u001b[1m> Entering new AgentExecutor chain...\u001b[0m\n",
      "\u001b[32;1m\u001b[1;3mThought: I need to count the number of people with more than 3 siblings\n",
      "Action: python_repl_ast\n",
      "Action Input: df[df['SibSp'] > 3].shape[0]\u001b[0m\n",
      "Observation: \u001b[36;1m\u001b[1;3m30\u001b[0m\n",
      "Thought:\u001b[32;1m\u001b[1;3m I now know the final answer\n",
      "Final Answer: 30 people have more than 3 siblings.\u001b[0m\n",
      "\n",
      "\u001b[1m> Finished chain.\u001b[0m\n"
     ]
    },
    {
     "data": {
      "text/plain": [
       "'30 people have more than 3 siblings.'"
      ]
     },
     "execution_count": 5,
     "metadata": {},
     "output_type": "execute_result"
    }
   ],
   "source": [
    "agent.run(\"how many people have more than 3 sibligngs\")"
   ]
  },
  {
   "cell_type": "code",
   "execution_count": 6,
   "id": "94e64b58",
   "metadata": {},
   "outputs": [
    {
     "name": "stdout",
     "output_type": "stream",
     "text": [
      "\n",
      "\n",
      "\u001b[1m> Entering new AgentExecutor chain...\u001b[0m\n",
      "\u001b[32;1m\u001b[1;3mThought: I need to calculate the average age first\n",
      "Action: python_repl_ast\n",
      "Action Input: df['Age'].mean()\u001b[0m\n",
      "Observation: \u001b[36;1m\u001b[1;3m29.69911764705882\u001b[0m\n",
      "Thought:\u001b[32;1m\u001b[1;3m I can now calculate the square root\n",
      "Action: python_repl_ast\n",
      "Action Input: math.sqrt(df['Age'].mean())\u001b[0m\n",
      "Observation: \u001b[36;1m\u001b[1;3mname 'math' is not defined\u001b[0m\n",
      "Thought:\u001b[32;1m\u001b[1;3m I need to import the math library\n",
      "Action: python_repl_ast\n",
      "Action Input: import math\u001b[0m\n",
      "Observation: \u001b[36;1m\u001b[1;3mNone\u001b[0m\n",
      "Thought:\u001b[32;1m\u001b[1;3m I can now calculate the square root\n",
      "Action: python_repl_ast\n",
      "Action Input: math.sqrt(df['Age'].mean())\u001b[0m\n",
      "Observation: \u001b[36;1m\u001b[1;3m5.449689683556195\u001b[0m\n",
      "Thought:\u001b[32;1m\u001b[1;3m I now know the final answer\n",
      "Final Answer: 5.449689683556195\u001b[0m\n",
      "\n",
      "\u001b[1m> Finished chain.\u001b[0m\n"
     ]
    },
    {
     "data": {
      "text/plain": [
       "'5.449689683556195'"
      ]
     },
     "execution_count": 6,
     "metadata": {},
     "output_type": "execute_result"
    }
   ],
   "source": [
    "agent.run(\"whats the square root of the average age?\")"
   ]
  },
  {
   "cell_type": "code",
   "execution_count": null,
   "id": "eba13b4d",
   "metadata": {},
   "outputs": [],
   "source": []
  }
 ],
 "metadata": {
  "kernelspec": {
   "display_name": "Python 3 (ipykernel)",
   "language": "python",
   "name": "python3"
  },
  "language_info": {
   "codemirror_mode": {
    "name": "ipython",
    "version": 3
   },
   "file_extension": ".py",
   "mimetype": "text/x-python",
   "name": "python",
   "nbconvert_exporter": "python",
   "pygments_lexer": "ipython3",
   "version": "3.11.2"
  }
 },
 "nbformat": 4,
 "nbformat_minor": 5
}
