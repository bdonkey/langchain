{
 "cells": [
  {
   "cell_type": "markdown",
   "id": "0ed6aab1",
   "metadata": {
    "pycharm": {
     "name": "#%% md\n"
    }
   },
   "source": [
    "# SQLite example\n",
    "\n",
    "This example showcases hooking up an LLM to answer questions over a database."
   ]
  },
  {
   "cell_type": "markdown",
   "id": "b2f66479",
   "metadata": {
    "pycharm": {
     "name": "#%% md\n"
    }
   },
   "source": [
    "This uses the example Chinook database.\n",
    "To set it up follow the instructions on https://database.guide/2-sample-databases-sqlite/, placing the `.db` file in a notebooks folder at the root of this repository."
   ]
  },
  {
   "cell_type": "code",
   "execution_count": 1,
   "id": "d0e27d88",
   "metadata": {
    "pycharm": {
     "name": "#%%\n"
    }
   },
   "outputs": [],
   "source": [
    "from langchain import OpenAI, SQLDatabase, SQLDatabaseChain"
   ]
  },
  {
   "attachments": {},
   "cell_type": "markdown",
   "id": "400c4999",
   "metadata": {},
   "source": [
    "# start ss"
   ]
  },
  {
   "cell_type": "code",
   "execution_count": 2,
   "id": "f53092f8",
   "metadata": {},
   "outputs": [],
   "source": [
    "import pandas as pd\n",
    "import sqlite3"
   ]
  },
  {
   "cell_type": "code",
   "execution_count": 3,
   "id": "1743431b",
   "metadata": {},
   "outputs": [],
   "source": [
    "sqldb_str = \"/Users/scottschmidt/sqlitedbs/tkc.db\""
   ]
  },
  {
   "cell_type": "code",
   "execution_count": null,
   "id": "48ee205a",
   "metadata": {},
   "outputs": [],
   "source": [
    "con = sqlite3.connect(sqldb_str)"
   ]
  },
  {
   "cell_type": "code",
   "execution_count": null,
   "id": "555e6468",
   "metadata": {},
   "outputs": [],
   "source": [
    "df_mthstatus = pd.read_csv('../../../../ssData/tkcmonthlystatus.csv')\n",
    "df_manpower = pd.read_csv('../../../../ssData/tkcgmp.csv')"
   ]
  },
  {
   "cell_type": "code",
   "execution_count": null,
   "id": "012053d6",
   "metadata": {},
   "outputs": [],
   "source": [
    "[df_mthstatus.shape, df_manpower.shape]"
   ]
  },
  {
   "cell_type": "code",
   "execution_count": null,
   "id": "d952894f",
   "metadata": {},
   "outputs": [],
   "source": [
    "def remove_last_space(x):\n",
    "    return x[:-1] if x[-1] == ' ' else x\n",
    "\n",
    "def remove_last_dash(x):\n",
    "    return x[:-1] if x[-1] == '-' else x "
   ]
  },
  {
   "cell_type": "code",
   "execution_count": null,
   "id": "7b1a467a",
   "metadata": {},
   "outputs": [],
   "source": [
    "df_manpower['contract'] = df_manpower['project_number'].apply(remove_last_space)"
   ]
  },
  {
   "cell_type": "code",
   "execution_count": null,
   "id": "7740bb9c",
   "metadata": {},
   "outputs": [],
   "source": [
    "df_mthstatus['contract'] = df_mthstatus['contract'].apply(remove_last_dash)"
   ]
  },
  {
   "cell_type": "code",
   "execution_count": null,
   "id": "d733ce68",
   "metadata": {},
   "outputs": [],
   "source": [
    "df_mthstatus.to_sql(\"mthstatus\", con, if_exists=\"replace\")"
   ]
  },
  {
   "cell_type": "code",
   "execution_count": null,
   "id": "0acb9a15",
   "metadata": {},
   "outputs": [],
   "source": [
    "df_manpower.to_sql(\"manpower\", con, if_exists=\"replace\")"
   ]
  },
  {
   "cell_type": "code",
   "execution_count": null,
   "id": "6abf648e",
   "metadata": {},
   "outputs": [],
   "source": [
    "cursor = con.cursor()"
   ]
  },
  {
   "cell_type": "code",
   "execution_count": null,
   "id": "75e397d4",
   "metadata": {},
   "outputs": [],
   "source": [
    "sql_query = \"\"\"SELECT name FROM sqlite_master  \n",
    "  WHERE type='table';\"\"\""
   ]
  },
  {
   "cell_type": "code",
   "execution_count": null,
   "id": "839aab30",
   "metadata": {},
   "outputs": [],
   "source": [
    "cursor.execute(sql_query)\n",
    "print(cursor.fetchall())"
   ]
  },
  {
   "cell_type": "code",
   "execution_count": null,
   "id": "dde9b118",
   "metadata": {},
   "outputs": [],
   "source": [
    "con.execute(\"DROP TABLE df_mp\")"
   ]
  },
  {
   "cell_type": "code",
   "execution_count": null,
   "id": "2e5be9d4",
   "metadata": {},
   "outputs": [],
   "source": [
    "cursor.execute(\"Select * from manpower limit 10\")\n",
    "print(cursor.fetchall())"
   ]
  },
  {
   "cell_type": "code",
   "execution_count": null,
   "id": "9e54655f",
   "metadata": {},
   "outputs": [],
   "source": [
    "cursor.execute(\"Select * from mthstatus limit 10\")\n",
    "print(cursor.fetchall())"
   ]
  },
  {
   "cell_type": "code",
   "execution_count": null,
   "id": "f8cb8fbe",
   "metadata": {},
   "outputs": [],
   "source": [
    "for row in con.execute(\"pragma table_info('manpower')\").fetchall():\n",
    "    print(row)"
   ]
  },
  {
   "cell_type": "code",
   "execution_count": null,
   "id": "292ccec1",
   "metadata": {},
   "outputs": [],
   "source": [
    "for row in con.execute(\"pragma table_info('mthstatus')\").fetchall():\n",
    "    print(row)"
   ]
  },
  {
   "cell_type": "code",
   "execution_count": null,
   "id": "44bff962",
   "metadata": {},
   "outputs": [],
   "source": [
    "con.close()"
   ]
  },
  {
   "cell_type": "code",
   "execution_count": 4,
   "id": "877d7eed",
   "metadata": {},
   "outputs": [],
   "source": [
    "sqldb_str = \"sqlite:////Users/scottschmidt/sqlitedbs/tkc.db\"\n",
    "db = SQLDatabase.from_uri(sqldb_str)\n",
    "llm = OpenAI(temperature=0)"
   ]
  },
  {
   "cell_type": "code",
   "execution_count": 5,
   "id": "b1e9d333",
   "metadata": {},
   "outputs": [],
   "source": [
    "db_chain = SQLDatabaseChain(llm=llm, database=db, verbose=True)"
   ]
  },
  {
   "cell_type": "code",
   "execution_count": 9,
   "id": "7fbba995",
   "metadata": {},
   "outputs": [
    {
     "name": "stdout",
     "output_type": "stream",
     "text": [
      "\n",
      "\n",
      "\u001b[1m> Entering new SQLDatabaseChain chain...\u001b[0m\n",
      "How many unique contracts are there in table mthstatus? \n",
      "SQLQuery:\u001b[32;1m\u001b[1;3m SELECT COUNT(DISTINCT contract) FROM mthstatus;\u001b[0m\n",
      "SQLResult: \u001b[33;1m\u001b[1;3m[(1045,)]\u001b[0m\n",
      "Answer:\u001b[32;1m\u001b[1;3m There are 1045 unique contracts in table mthstatus.\u001b[0m\n",
      "\u001b[1m> Finished chain.\u001b[0m\n"
     ]
    }
   ],
   "source": [
    "sa = db_chain.run(\"How many unique contracts are there in table mthstatus?\")"
   ]
  },
  {
   "cell_type": "code",
   "execution_count": 10,
   "id": "854b901b",
   "metadata": {},
   "outputs": [
    {
     "name": "stdout",
     "output_type": "stream",
     "text": [
      "\n",
      "\n",
      "\u001b[1m> Entering new SQLDatabaseChain chain...\u001b[0m\n",
      "List the tables in the database? \n",
      "SQLQuery:\u001b[32;1m\u001b[1;3m SELECT name FROM sqlite_master WHERE type='table';\u001b[0m\n",
      "SQLResult: \u001b[33;1m\u001b[1;3m[('mthstatus',), ('manpower',)]\u001b[0m\n",
      "Answer:\u001b[32;1m\u001b[1;3m The tables in the database are mthstatus and manpower.\u001b[0m\n",
      "\u001b[1m> Finished chain.\u001b[0m\n"
     ]
    }
   ],
   "source": [
    "sa = db_chain.run(\"List the tables in the database?\")"
   ]
  },
  {
   "cell_type": "code",
   "execution_count": 11,
   "id": "388f2cce",
   "metadata": {},
   "outputs": [
    {
     "name": "stdout",
     "output_type": "stream",
     "text": [
      "\n",
      "\n",
      "\u001b[1m> Entering new SQLDatabaseChain chain...\u001b[0m\n",
      "List the columns in the manpower table \n",
      "SQLQuery:\u001b[32;1m\u001b[1;3m SELECT * FROM 'manpower' LIMIT 1;\u001b[0m\n",
      "SQLResult: \u001b[33;1m\u001b[1;3m[(0, 1656486, '21221', '2021-09-01', 22120632.0, '\"Central Ceiling North Inc.\"', 235507.0, '\"Carpentry\"', 16)]\u001b[0m\n",
      "Answer:\u001b[32;1m\u001b[1;3m The columns in the manpower table are index, projectid, project_number, mthyr, vendorid, vendorname, tradeid, tradename, and man_hours.\u001b[0m\n",
      "\u001b[1m> Finished chain.\u001b[0m\n"
     ]
    }
   ],
   "source": [
    "sa = db_chain.run(\"List the columns in the manpower table\")"
   ]
  },
  {
   "cell_type": "code",
   "execution_count": 19,
   "id": "51f831c8",
   "metadata": {},
   "outputs": [
    {
     "name": "stdout",
     "output_type": "stream",
     "text": [
      "\n",
      "\n",
      "\u001b[1m> Entering new SQLDatabaseChain chain...\u001b[0m\n",
      "How many rows are there in table mthstatus? \n",
      "SQLQuery:\u001b[32;1m\u001b[1;3m SELECT COUNT(*) FROM mthstatus;\u001b[0m\n",
      "SQLResult: \u001b[33;1m\u001b[1;3m[(31112,)]\u001b[0m\n",
      "Answer:\u001b[32;1m\u001b[1;3m There are 31112 rows in table mthstatus.\u001b[0m\n",
      "\u001b[1m> Finished chain.\u001b[0m\n"
     ]
    }
   ],
   "source": [
    "sa = db_chain.run(\"How many rows are there in table mthstatus?\")"
   ]
  },
  {
   "cell_type": "code",
   "execution_count": null,
   "id": "1eb946cd",
   "metadata": {},
   "outputs": [],
   "source": [
    "sa = db_chain.run(\"subtract the sum of projprofit in mth 2022-12-01 from the sum of projprofit in mth 2023-01-01\")"
   ]
  },
  {
   "cell_type": "code",
   "execution_count": 22,
   "id": "3a9c2ba3",
   "metadata": {},
   "outputs": [
    {
     "name": "stdout",
     "output_type": "stream",
     "text": [
      "\n",
      "\n",
      "\u001b[1m> Entering new SQLDatabaseChain chain...\u001b[0m\n",
      "what is the sum of projprofit in mth 2023-03-01? \n",
      "SQLQuery:\u001b[32;1m\u001b[1;3m SELECT SUM(projprofit) FROM mthstatus WHERE mth = '2023-03-01';\u001b[0m\n",
      "SQLResult: \u001b[33;1m\u001b[1;3m[(99859406.02999997,)]\u001b[0m\n",
      "Answer:\u001b[32;1m\u001b[1;3m The sum of projprofit in mth 2023-03-01 is 99859406.03.\u001b[0m\n",
      "\u001b[1m> Finished chain.\u001b[0m\n"
     ]
    }
   ],
   "source": [
    "sa = db_chain.run(\"what is the sum of projprofit in mth 2023-03-01?\")"
   ]
  },
  {
   "cell_type": "code",
   "execution_count": 23,
   "id": "3e3f03ab",
   "metadata": {},
   "outputs": [
    {
     "name": "stdout",
     "output_type": "stream",
     "text": [
      "\n",
      "\n",
      "\u001b[1m> Entering new SQLDatabaseChain chain...\u001b[0m\n",
      "what is the sum of projprofit in mth 2023-02-01? \n",
      "SQLQuery:\u001b[32;1m\u001b[1;3m SELECT SUM(projprofit) FROM mthstatus WHERE mth = '2023-02-01';\u001b[0m\n",
      "SQLResult: \u001b[33;1m\u001b[1;3m[(99388540.85,)]\u001b[0m\n",
      "Answer:\u001b[32;1m\u001b[1;3m The sum of projprofit in mth 2023-02-01 is 99388540.85.\u001b[0m\n",
      "\u001b[1m> Finished chain.\u001b[0m\n"
     ]
    }
   ],
   "source": [
    "sa = db_chain.run(\"what is the sum of projprofit in mth 2023-02-01?\")"
   ]
  },
  {
   "cell_type": "code",
   "execution_count": 24,
   "id": "8d07fbd0",
   "metadata": {},
   "outputs": [
    {
     "name": "stdout",
     "output_type": "stream",
     "text": [
      "\n",
      "\n",
      "\u001b[1m> Entering new SQLDatabaseChain chain...\u001b[0m\n",
      "subtract the sum of projprofit in mth 2023-02-01 from the sum of projprofit in mth 2023-03-01 \n",
      "SQLQuery:\u001b[32;1m\u001b[1;3m SELECT SUM(projprofit) FROM mthstatus WHERE mth = '2023-02-01' OR mth = '2023-03-01'\u001b[0m\n",
      "SQLResult: \u001b[33;1m\u001b[1;3m[(199247946.88000005,)]\u001b[0m\n",
      "Answer:\u001b[32;1m\u001b[1;3m 199247946.88000005\u001b[0m\n",
      "\u001b[1m> Finished chain.\u001b[0m\n"
     ]
    }
   ],
   "source": [
    "sa = db_chain.run(\"subtract the sum of projprofit in mth 2023-02-01 from the sum of projprofit in mth 2023-03-01\")"
   ]
  },
  {
   "cell_type": "code",
   "execution_count": null,
   "id": "2aa104d5",
   "metadata": {},
   "outputs": [],
   "source": [
    "type(sa)"
   ]
  },
  {
   "attachments": {},
   "cell_type": "markdown",
   "id": "ba9083c3",
   "metadata": {},
   "source": [
    "# End ss"
   ]
  },
  {
   "cell_type": "code",
   "execution_count": null,
   "id": "b31cf7e5",
   "metadata": {},
   "outputs": [],
   "source": [
    "#ss\n",
    "# Valid SQLite URL forms are:\n",
    "#  sqlite:///:memory: (or, sqlite://)\n",
    "#  sqlite:///relative/path/to/file.db\n",
    "#  sqlite:////absolute/path/to/file.db\n",
    "db = SQLDatabase.from_uri(\"sqlite:////Users/scottschmidt/sqlitedbs/Chinook.db\")"
   ]
  },
  {
   "cell_type": "code",
   "execution_count": null,
   "id": "72ede462",
   "metadata": {
    "pycharm": {
     "name": "#%%\n"
    }
   },
   "outputs": [],
   "source": [
    "sqldb_str = \"sqlite:////Users/scottschmidt/sqlitedbs/Chinook.db\"\n",
    "db = SQLDatabase.from_uri(sqldb_str)\n",
    "llm = OpenAI(temperature=0)"
   ]
  },
  {
   "cell_type": "markdown",
   "id": "3d1e692e",
   "metadata": {},
   "source": [
    "**NOTE:** For data-sensitive projects, you can specify `return_direct=True` in the `SQLDatabaseChain` initialization to directly return the output of the SQL query without any additional formatting. This prevents the LLM from seeing any contents within the database. Note, however, the LLM still has access to the database scheme (i.e. dialect, table and key names) by default."
   ]
  },
  {
   "cell_type": "code",
   "execution_count": null,
   "id": "a8fc8f23",
   "metadata": {},
   "outputs": [],
   "source": [
    "db_chain = SQLDatabaseChain(llm=llm, database=db, verbose=True)"
   ]
  },
  {
   "cell_type": "code",
   "execution_count": null,
   "id": "255119de",
   "metadata": {},
   "outputs": [],
   "source": [
    "db_chain = SQLDatabaseChain(llm=llm, database=db, prompt=PROMPT, verbose=True, return_intermediate_steps=True)"
   ]
  },
  {
   "cell_type": "code",
   "execution_count": null,
   "id": "15ff81df",
   "metadata": {
    "pycharm": {
     "name": "#%%\n"
    }
   },
   "outputs": [],
   "source": [
    "sa = db_chain.run(\"How many employees are there?\")"
   ]
  },
  {
   "cell_type": "markdown",
   "id": "aad2cba6",
   "metadata": {},
   "source": [
    "## Customize Prompt\n",
    "You can also customize the prompt that is used. Here is an example prompting it to understand that foobar is the same as the Employee table"
   ]
  },
  {
   "cell_type": "code",
   "execution_count": null,
   "id": "ff930aff",
   "metadata": {},
   "outputs": [],
   "source": [
    "sa"
   ]
  },
  {
   "cell_type": "code",
   "execution_count": null,
   "id": "8ca7bafb",
   "metadata": {},
   "outputs": [],
   "source": [
    "from langchain.prompts.prompt import PromptTemplate\n",
    "\n",
    "_DEFAULT_TEMPLATE = \"\"\"Given an input question, first create a syntactically correct {dialect} query to run, then look at the results of the query and return the answer.\n",
    "Use the following format:\n",
    "\n",
    "Question: \"Question here\"\n",
    "SQLQuery: \"SQL Query to run\"\n",
    "SQLResult: \"Result of the SQLQuery\"\n",
    "Answer: \"Final answer here\"\n",
    "\n",
    "Only use the following tables:\n",
    "\n",
    "{table_info}\n",
    "\n",
    "If someone asks for the table foobar, they really mean the employee table.\n",
    "\n",
    "Question: {input}\"\"\"\n",
    "PROMPT = PromptTemplate(\n",
    "    input_variables=[\"input\", \"table_info\", \"dialect\"], template=_DEFAULT_TEMPLATE\n",
    ")"
   ]
  },
  {
   "cell_type": "code",
   "execution_count": null,
   "id": "ec47a2bf",
   "metadata": {},
   "outputs": [],
   "source": [
    "db_chain = SQLDatabaseChain(llm=llm, database=db, prompt=PROMPT, verbose=True)"
   ]
  },
  {
   "cell_type": "code",
   "execution_count": null,
   "id": "ebb0674e",
   "metadata": {},
   "outputs": [],
   "source": [
    "db_chain.run(\"How many employees are there in the foobar table?\")"
   ]
  },
  {
   "cell_type": "markdown",
   "id": "88d8b969",
   "metadata": {},
   "source": [
    "## Return Intermediate Steps\n",
    "\n",
    "You can also return the intermediate steps of the SQLDatabaseChain. This allows you to access the SQL statement that was generated, as well as the result of running that against the SQL Database."
   ]
  },
  {
   "cell_type": "code",
   "execution_count": null,
   "id": "38559487",
   "metadata": {},
   "outputs": [],
   "source": [
    "db_chain = SQLDatabaseChain(llm=llm, database=db, prompt=PROMPT, verbose=True, return_intermediate_steps=True)"
   ]
  },
  {
   "cell_type": "code",
   "execution_count": null,
   "id": "78b6af4d",
   "metadata": {},
   "outputs": [],
   "source": [
    "result = db_chain(\"How many employees are there in the foobar table?\")\n",
    "result[\"intermediate_steps\"]"
   ]
  },
  {
   "cell_type": "code",
   "execution_count": null,
   "id": "08cca8a4",
   "metadata": {},
   "outputs": [],
   "source": [
    "result[\"intermediate_steps\"]"
   ]
  },
  {
   "cell_type": "markdown",
   "id": "b408f800",
   "metadata": {},
   "source": [
    "## Choosing how to limit the number of rows returned\n",
    "If you are querying for several rows of a table you can select the maximum number of results you want to get by using the 'top_k' parameter (default is 10). This is useful for avoiding query results that exceed the prompt max length or consume tokens unnecessarily."
   ]
  },
  {
   "cell_type": "code",
   "execution_count": null,
   "id": "6adaa799",
   "metadata": {},
   "outputs": [],
   "source": [
    "db_chain = SQLDatabaseChain(llm=llm, database=db, verbose=True, top_k=3)"
   ]
  },
  {
   "cell_type": "code",
   "execution_count": null,
   "id": "edfc8a8e",
   "metadata": {},
   "outputs": [],
   "source": [
    "db_chain.run(\"What are some example tracks by composer Johann Sebastian Bach?\")"
   ]
  },
  {
   "cell_type": "markdown",
   "id": "bcc5e936",
   "metadata": {},
   "source": [
    "## Adding example rows from each table\n",
    "Sometimes, the format of the data is not obvious and it is optimal to include a sample of rows from the tables in the prompt to allow the LLM to understand the data before providing a final query. Here we will use this feature to let the LLM know that artists are saved with their full names by providing two rows from the `Track` table."
   ]
  },
  {
   "cell_type": "code",
   "execution_count": null,
   "id": "9a22ee47",
   "metadata": {},
   "outputs": [],
   "source": [
    "db = SQLDatabase.from_uri(\n",
    "    \"sqlite:///../../../../notebooks/Chinook.db\",\n",
    "    include_tables=['Track'], # we include only one table to save tokens in the prompt :)\n",
    "    sample_rows_in_table_info=2)"
   ]
  },
  {
   "cell_type": "markdown",
   "id": "952c0b4d",
   "metadata": {},
   "source": [
    "The sample rows are added to the prompt after each corresponding table's column information:"
   ]
  },
  {
   "cell_type": "code",
   "execution_count": null,
   "id": "9de86267",
   "metadata": {},
   "outputs": [],
   "source": [
    "print(db.table_info)"
   ]
  },
  {
   "cell_type": "code",
   "execution_count": null,
   "id": "bcb7a489",
   "metadata": {},
   "outputs": [],
   "source": [
    "db_chain = SQLDatabaseChain(llm=llm, database=db, verbose=True)"
   ]
  },
  {
   "cell_type": "code",
   "execution_count": null,
   "id": "81e05d82",
   "metadata": {},
   "outputs": [],
   "source": [
    "db_chain.run(\"What are some example tracks by Bach?\")"
   ]
  },
  {
   "cell_type": "markdown",
   "id": "ef94e948",
   "metadata": {},
   "source": [
    "### Custom Table Info\n",
    "In some cases, it can be useful to provide custom table information instead of using the automatically generated table definitions and the first `sample_rows_in_table_info` sample rows. For example, if you know that the first few rows of a table are uninformative, it could help to manually provide example rows that are more diverse or provide more information to the model. It is also possible to limit the columns that will be visible to the model if there are unnecessary columns. \n",
    "\n",
    "This information can be provided as a dictionary with table names as the keys and table information as the values. For example, let's provide a custom definition and sample rows for the Track table with only a few columns:"
   ]
  },
  {
   "cell_type": "code",
   "execution_count": null,
   "id": "2ad33ab1",
   "metadata": {},
   "outputs": [],
   "source": [
    "custom_table_info = {\n",
    "    \"Track\": \"\"\"CREATE TABLE Track (\n",
    "\t\"TrackId\" INTEGER NOT NULL, \n",
    "\t\"Name\" NVARCHAR(200) NOT NULL,\n",
    "\t\"Composer\" NVARCHAR(220),\n",
    "\tPRIMARY KEY (\"TrackId\")\n",
    ")\n",
    "\n",
    "SELECT * FROM 'Track' LIMIT 3;\n",
    "TrackId\tName\tComposer\n",
    "1\tFor Those About To Rock (We Salute You)\tAngus Young, Malcolm Young, Brian Johnson\n",
    "2\tBalls to the Wall\tNone\n",
    "3\tMy favorite song ever\tThe coolest composer of all time\"\"\"\n",
    "}"
   ]
  },
  {
   "cell_type": "code",
   "execution_count": null,
   "id": "db144352",
   "metadata": {},
   "outputs": [],
   "source": [
    "db = SQLDatabase.from_uri(\n",
    "    \"sqlite:///../../../../notebooks/Chinook.db\",\n",
    "    include_tables=['Track', 'Playlist'],\n",
    "    sample_rows_in_table_info=2,\n",
    "    custom_table_info=custom_table_info)\n",
    "\n",
    "print(db.table_info)"
   ]
  },
  {
   "cell_type": "markdown",
   "id": "5fc6f507",
   "metadata": {},
   "source": [
    "Note how our custom table definition and sample rows for `Track` overrides the `sample_rows_in_table_info` parameter. Tables that are not overriden by `custom_table_info`, in this example `Playlist`, will have their table info gathered automatically as usual."
   ]
  },
  {
   "cell_type": "code",
   "execution_count": null,
   "id": "dfbda4e6",
   "metadata": {},
   "outputs": [],
   "source": [
    "db_chain = SQLDatabaseChain(llm=llm, database=db, verbose=True)\n",
    "db_chain.run(\"What are some example tracks by Bach?\")"
   ]
  },
  {
   "cell_type": "markdown",
   "id": "c12ae15a",
   "metadata": {},
   "source": [
    "## SQLDatabaseSequentialChain\n",
    "\n",
    "Chain for querying SQL database that is a sequential chain.\n",
    "\n",
    "The chain is as follows:\n",
    "\n",
    "    1. Based on the query, determine which tables to use.\n",
    "    2. Based on those tables, call the normal SQL database chain.\n",
    "\n",
    "This is useful in cases where the number of tables in the database is large."
   ]
  },
  {
   "cell_type": "code",
   "execution_count": null,
   "id": "e59a4740",
   "metadata": {},
   "outputs": [],
   "source": [
    "from langchain.chains import SQLDatabaseSequentialChain\n",
    "db = SQLDatabase.from_uri(\"sqlite:///../../../../notebooks/Chinook.db\")"
   ]
  },
  {
   "cell_type": "code",
   "execution_count": null,
   "id": "58bb49b6",
   "metadata": {},
   "outputs": [],
   "source": [
    "chain = SQLDatabaseSequentialChain.from_llm(llm, db, verbose=True)"
   ]
  },
  {
   "cell_type": "code",
   "execution_count": null,
   "id": "95017b1a",
   "metadata": {},
   "outputs": [],
   "source": [
    "chain.run(\"How many employees are also customers?\")"
   ]
  },
  {
   "attachments": {},
   "cell_type": "markdown",
   "id": "5eb39db6",
   "metadata": {},
   "source": [
    "# pandas "
   ]
  },
  {
   "cell_type": "code",
   "execution_count": null,
   "id": "4f1322c7",
   "metadata": {},
   "outputs": [],
   "source": [
    "df_mthstatus.contract.apply(lambda x: len(x)).unique()"
   ]
  },
  {
   "cell_type": "code",
   "execution_count": null,
   "id": "0d130801",
   "metadata": {},
   "outputs": [],
   "source": [
    "df_manpower.project_number.apply(lambda x: len(x)).unique()"
   ]
  },
  {
   "cell_type": "code",
   "execution_count": null,
   "id": "04332b5c",
   "metadata": {},
   "outputs": [],
   "source": [
    "\n",
    "df_manpower[df_manpower.project_number.apply(lambda x: len(x)==6)].project_number"
   ]
  },
  {
   "cell_type": "code",
   "execution_count": null,
   "id": "572ccddd",
   "metadata": {},
   "outputs": [],
   "source": [
    "df_manpower.contract.apply(lambda x: len(x)).unique()"
   ]
  },
  {
   "cell_type": "code",
   "execution_count": null,
   "id": "4cdf34df",
   "metadata": {},
   "outputs": [],
   "source": [
    "df_mthstatus.contract.apply(lambda x: len(x)).unique()"
   ]
  },
  {
   "cell_type": "code",
   "execution_count": null,
   "id": "09af0248",
   "metadata": {},
   "outputs": [],
   "source": []
  }
 ],
 "metadata": {
  "@webio": {
   "lastCommId": null,
   "lastKernelId": null
  },
  "kernelspec": {
   "display_name": "sslangchain",
   "language": "python",
   "name": "python3"
  },
  "language_info": {
   "codemirror_mode": {
    "name": "ipython",
    "version": 3
   },
   "file_extension": ".py",
   "mimetype": "text/x-python",
   "name": "python",
   "nbconvert_exporter": "python",
   "pygments_lexer": "ipython3",
   "version": "3.11.2"
  },
  "vscode": {
   "interpreter": {
    "hash": "1e1167168ca9a5b68ad0601baf84a956608d7a94387cc99ed0f2625e8ee35ccf"
   }
  }
 },
 "nbformat": 4,
 "nbformat_minor": 5
}
